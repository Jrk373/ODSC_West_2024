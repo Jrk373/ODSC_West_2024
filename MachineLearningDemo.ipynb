{
  "nbformat": 4,
  "nbformat_minor": 0,
  "metadata": {
    "colab": {
      "provenance": [],
      "authorship_tag": "ABX9TyOZ4P/gvQtQVfusvzd58W03",
      "include_colab_link": true
    },
    "kernelspec": {
      "name": "python3",
      "display_name": "Python 3"
    },
    "language_info": {
      "name": "python"
    }
  },
  "cells": [
    {
      "cell_type": "markdown",
      "metadata": {
        "id": "view-in-github",
        "colab_type": "text"
      },
      "source": [
        "<a href=\"https://colab.research.google.com/github/Jrk373/ODSC_West_2024/blob/main/MachineLearningDemo.ipynb\" target=\"_parent\"><img src=\"https://colab.research.google.com/assets/colab-badge.svg\" alt=\"Open In Colab\"/></a>"
      ]
    },
    {
      "cell_type": "markdown",
      "metadata": {
        "id": "mCaKvqmJib-x"
      },
      "source": [
        "## Stage 1: Data Collection\n",
        "\n",
        "### House Prices Data Set\n",
        "\n",
        "As mentioned the Kaggle House Prices dataset is a popular dataset used for regression tasks in machine learning. It contains information about residential houses in Ames, Iowa and has 81 explanatory variables describing various aspects of a house, such as price, lot size, overall condition, number of bedrooms, and neighborhood, among others. The goal is to predict the final sale price of each house using these features."
      ]
    },
    {
      "cell_type": "markdown",
      "source": [
        "### WGET\n",
        "\n",
        "To retrieve the dataset lets use **wget** which is a It is a popular tool for downloading files and does not require any additional libraries to be loaded or installed. Recall we use this file in our data wrangling course so lets get the raw file from the github repository."
      ],
      "metadata": {
        "id": "tQWL4URaIkH2"
      }
    },
    {
      "cell_type": "code",
      "source": [
        "!wget https://raw.githubusercontent.com/odsc2015/Data-Wrangling-With-SQL/main/kaggle-house-price-data-set.csv"
      ],
      "metadata": {
        "collapsed": true,
        "colab": {
          "base_uri": "https://localhost:8080/"
        },
        "id": "aEiz8OgQGvYV",
        "outputId": "0bfd2b77-541a-4086-f7e4-b811352d4b9c"
      },
      "execution_count": 1,
      "outputs": [
        {
          "output_type": "stream",
          "name": "stdout",
          "text": [
            "--2025-01-16 03:14:54--  https://raw.githubusercontent.com/odsc2015/Data-Wrangling-With-SQL/main/kaggle-house-price-data-set.csv\n",
            "Resolving raw.githubusercontent.com (raw.githubusercontent.com)... 185.199.108.133, 185.199.109.133, 185.199.110.133, ...\n",
            "Connecting to raw.githubusercontent.com (raw.githubusercontent.com)|185.199.108.133|:443... connected.\n",
            "HTTP request sent, awaiting response... 200 OK\n",
            "Length: 460676 (450K) [text/plain]\n",
            "Saving to: ‘kaggle-house-price-data-set.csv’\n",
            "\n",
            "kaggle-house-price- 100%[===================>] 449.88K  --.-KB/s    in 0.06s   \n",
            "\n",
            "2025-01-16 03:14:54 (6.86 MB/s) - ‘kaggle-house-price-data-set.csv’ saved [460676/460676]\n",
            "\n"
          ]
        }
      ]
    },
    {
      "cell_type": "markdown",
      "metadata": {
        "id": "ukRypeAelVV1"
      },
      "source": [
        "## Stage 2: Data Profiling\n",
        "\n",
        "Now lets explore our dataset using one of the most popular open source tools available. Pandas is a powerful, open-source data manipulation library for Python that enables users to work with structured data. It provides data structures like DataFrame and Series, and extensive functionality for data cleaning, transformation, analysis, and visualization."
      ]
    },
    {
      "cell_type": "code",
      "source": [
        "# Pandas Library\n",
        "import pandas as pd\n",
        "\n",
        "# Load the dataset\n",
        "house_df = pd.read_csv(\"kaggle-house-price-data-set.csv\")"
      ],
      "metadata": {
        "collapsed": true,
        "id": "HWWiYF8XHkun"
      },
      "execution_count": 4,
      "outputs": []
    },
    {
      "cell_type": "markdown",
      "metadata": {
        "id": "i0V3ftNXpJW8"
      },
      "source": [
        "### Data Dictionary\n",
        "\n",
        "Its imporant to undertand the domain of the data. This dataset has 80 features. Here are their descriptions below:\n",
        "\n",
        "* 1stFlrSF: Total area of ​​the first floor of the house\n",
        "* 2ndFlrSF: Total area of ​​the second floor of the house\n",
        "* 3SsnPorch:  ​Three seasons porch\n",
        "* Alley: Characteristic of the alley  \n",
        "* BedroomAbvGr: Number of beds above ground in the house, ( excluding basement bedrooms)\n",
        "* BldgType: Type of housing\n",
        "* BsmtCond: Classifies the basement's general condition\n",
        "* BsmtExposure: Exposition of the basement of the dwelling\n",
        "* BsmtFinSF1: Area covered by type 1 finish\n",
        "* BsmtFinSF2: Area covered by type 2 finish\n",
        "* BsmtFinType1: Score of the finish of the basement\n",
        "* BsmtFinType2: Score of the finish of the basement - if more than one exists\n",
        "* BsmtFullBath: Full bathrooms in the basement-related area\n",
        "* BsmtHalfBath: half bathrooms in basement area\n",
        "* BsmtQual: Classifies the house according to the size of the basement\n",
        "* BsmtUnfSF: Basement area without finishing\n",
        "* CentralAir: Defines whether or not there is a central air conditioner (Boolean attribute)\n",
        "* Condition1: Proximity to important points in the city\n",
        "* Condition2: Proximity to important points in the city if there are more than one\n",
        "* Electrical: Type of home electrical system\n",
        "* EnclosedPorch: Closed balcony area in the house\n",
        "* ExterCond: Condition of the external material on the observation date\n",
        "* Exterior1st: External coverage of the house\n",
        "* Exterior2nd: External roof of the house - if there is more than one roof\n",
        "* ExterQual: Quality of the material used abroad\n",
        "* Fence: Quality of the enclosure present in the house\n",
        "* FireplaceQu: Quality of fireplaces\n",
        "* Fireplaces: Number of fireplaces in the house\n",
        "* Foundation: Type of foundation used in construction\n",
        "* FullBath: Number of full bathrooms in the house above the basement\n",
        "* Functional: Describes features of the house under warranty\n",
        "* GarageArea: Garage area in square meters\n",
        "* GarageCars: Size of the garage related to the number of possible cars\n",
        "* GarageCond: Score that defines the conditions of the garage\n",
        "* GarageFinish: Internal garage finish\n",
        "* GarageQual: Quality of the garage\n",
        "* GarageType: Type of garage in the house\n",
        "* GarageYrBlt: Year of construction of the garage\n",
        "* GrLivArea: Total living room area\n",
        "* HalfBath: Number of incomplete bathrooms (half) in the house (above the basement)\n",
        "* Heating: Type of house heating\n",
        "* HeatingQC: Heating quality\n",
        "* HouseStyle: Housing style\n",
        "* KitchenAbvGr: Number of kitchens in the house (above the basement)\n",
        "* KitchenQual: Quality of the kitchens\n",
        "* LandContour: Housing leveling\n",
        "* LandSlope: Property slope\n",
        "* LotArea: Allotment area\n",
        "* LotConfig: Allotment configuration\n",
        "* LotFrontage: Dimension of the front perimeter of the house\n",
        "* LotShape: General housing format\n",
        "* LowQualFinSF: Total area of ​​low quality finishes throughout the house\n",
        "* MasVnrArea: Area covered by masonry\n",
        "* MasVnrType: Type of masonry used\n",
        "* MiscFeature: Some features not included in other categories\n",
        "* MiscVal: Value of features not included in quantity criteria\n",
        "* MoSold: Month in which the sale of the house was made\n",
        "* MSSubClass: Identifies the type of residence\n",
        "* MSZoning: Classifies the property by zone\n",
        "* Neighborhood: Locality related to city boundaries\n",
        "_variablename: description\n",
        "* OpenPorchSF: Open balcony area in the house\n",
        "* OverallCond: Score of the general condition of the house\n",
        "* OverallQual: Score of the material and finish of the house\n",
        "* PavedDrive: Attribute that defines the paving of the street  \n",
        "* PoolArea: Pool area in the house\n",
        "* PoolQC: Quality of the pool\n",
        "* RoodMatl: Material used in the roof\n",
        "* RoofStyle: Type of roof of the house\n",
        "* SaleCondition: Conditions of sale\n",
        "* SaleType: Type of sale\n",
        "* ScreenPorch: Screen area on the balcony of the house\n",
        "* Street: Characteristic of the street that gives access to housing\n",
        "* TotalBsmtSF: Total hold area\n",
        "* TotRmsAbvGrd: Total number of rooms in the house above the basement\n",
        "* Utilities: Utilities\n",
        "* WoodDeckSF: Wooden deck area present in the house\n",
        "* YearBuilt: Year of construction of the house\n",
        "* YearRemodAdd: Year of remodeling of the house - same as* YearBuilt if the house has not been remodeled\n",
        "* YrSold: Year in which the sale of the house was made"
      ]
    },
    {
      "cell_type": "markdown",
      "source": [
        "### Data Understanding"
      ],
      "metadata": {
        "id": "sF85cLACOrwL"
      }
    },
    {
      "cell_type": "markdown",
      "source": [
        "### Data Shape"
      ],
      "metadata": {
        "id": "c2CnDwjRO1nk"
      }
    },
    {
      "cell_type": "code",
      "source": [
        "# Check the shape (rows, columns)\n",
        "print(\"/n/n Data set rows and columns\", house_df.shape, \"/n\")"
      ],
      "metadata": {
        "collapsed": true,
        "colab": {
          "base_uri": "https://localhost:8080/"
        },
        "id": "3oi96O3mNtjE",
        "outputId": "38385e92-80b2-4e2e-a590-9749ea8d5faa"
      },
      "execution_count": 8,
      "outputs": [
        {
          "output_type": "stream",
          "name": "stdout",
          "text": [
            "/n/n Data set rows and columns (1460, 81) /n\n"
          ]
        }
      ]
    },
    {
      "cell_type": "code",
      "source": [
        "# Print off the first 10 rows\n",
        "print(house_df.head(10),\"/n\")"
      ],
      "metadata": {
        "collapsed": true,
        "colab": {
          "base_uri": "https://localhost:8080/"
        },
        "id": "vfD_c-zZOI3j",
        "outputId": "264dabe7-c388-403f-d9ce-2cf266ae9f08"
      },
      "execution_count": 9,
      "outputs": [
        {
          "output_type": "stream",
          "name": "stdout",
          "text": [
            "   Id  MSSubClass MSZoning  LotFrontage  LotArea Street Alley LotShape  \\\n",
            "0   1          60       RL         65.0     8450   Pave   NaN      Reg   \n",
            "1   2          20       RL         80.0     9600   Pave   NaN      Reg   \n",
            "2   3          60       RL         68.0    11250   Pave   NaN      IR1   \n",
            "3   4          70       RL         60.0     9550   Pave   NaN      IR1   \n",
            "4   5          60       RL         84.0    14260   Pave   NaN      IR1   \n",
            "5   6          50       RL         85.0    14115   Pave   NaN      IR1   \n",
            "6   7          20       RL         75.0    10084   Pave   NaN      Reg   \n",
            "7   8          60       RL          NaN    10382   Pave   NaN      IR1   \n",
            "8   9          50       RM         51.0     6120   Pave   NaN      Reg   \n",
            "9  10         190       RL         50.0     7420   Pave   NaN      Reg   \n",
            "\n",
            "  LandContour Utilities  ... PoolArea PoolQC  Fence MiscFeature MiscVal  \\\n",
            "0         Lvl    AllPub  ...        0    NaN    NaN         NaN       0   \n",
            "1         Lvl    AllPub  ...        0    NaN    NaN         NaN       0   \n",
            "2         Lvl    AllPub  ...        0    NaN    NaN         NaN       0   \n",
            "3         Lvl    AllPub  ...        0    NaN    NaN         NaN       0   \n",
            "4         Lvl    AllPub  ...        0    NaN    NaN         NaN       0   \n",
            "5         Lvl    AllPub  ...        0    NaN  MnPrv        Shed     700   \n",
            "6         Lvl    AllPub  ...        0    NaN    NaN         NaN       0   \n",
            "7         Lvl    AllPub  ...        0    NaN    NaN        Shed     350   \n",
            "8         Lvl    AllPub  ...        0    NaN    NaN         NaN       0   \n",
            "9         Lvl    AllPub  ...        0    NaN    NaN         NaN       0   \n",
            "\n",
            "  MoSold YrSold  SaleType  SaleCondition  SalePrice  \n",
            "0      2   2008        WD         Normal     208500  \n",
            "1      5   2007        WD         Normal     181500  \n",
            "2      9   2008        WD         Normal     223500  \n",
            "3      2   2006        WD        Abnorml     140000  \n",
            "4     12   2008        WD         Normal     250000  \n",
            "5     10   2009        WD         Normal     143000  \n",
            "6      8   2007        WD         Normal     307000  \n",
            "7     11   2009        WD         Normal     200000  \n",
            "8      4   2008        WD        Abnorml     129900  \n",
            "9      1   2008        WD         Normal     118000  \n",
            "\n",
            "[10 rows x 81 columns] /n\n"
          ]
        }
      ]
    },
    {
      "cell_type": "code",
      "source": [
        "# Lets get more basic information on columns, datatypes etc using .info()\n",
        "print(house_df.info())"
      ],
      "metadata": {
        "collapsed": true,
        "colab": {
          "base_uri": "https://localhost:8080/"
        },
        "id": "j5DphqfwN7JT",
        "outputId": "a07b4646-fb6c-4210-da98-ff83197d0f5b"
      },
      "execution_count": 6,
      "outputs": [
        {
          "output_type": "stream",
          "name": "stdout",
          "text": [
            "<class 'pandas.core.frame.DataFrame'>\n",
            "RangeIndex: 1460 entries, 0 to 1459\n",
            "Data columns (total 81 columns):\n",
            " #   Column         Non-Null Count  Dtype  \n",
            "---  ------         --------------  -----  \n",
            " 0   Id             1460 non-null   int64  \n",
            " 1   MSSubClass     1460 non-null   int64  \n",
            " 2   MSZoning       1460 non-null   object \n",
            " 3   LotFrontage    1201 non-null   float64\n",
            " 4   LotArea        1460 non-null   int64  \n",
            " 5   Street         1460 non-null   object \n",
            " 6   Alley          91 non-null     object \n",
            " 7   LotShape       1460 non-null   object \n",
            " 8   LandContour    1460 non-null   object \n",
            " 9   Utilities      1460 non-null   object \n",
            " 10  LotConfig      1460 non-null   object \n",
            " 11  LandSlope      1460 non-null   object \n",
            " 12  Neighborhood   1460 non-null   object \n",
            " 13  Condition1     1460 non-null   object \n",
            " 14  Condition2     1460 non-null   object \n",
            " 15  BldgType       1460 non-null   object \n",
            " 16  HouseStyle     1460 non-null   object \n",
            " 17  OverallQual    1460 non-null   int64  \n",
            " 18  OverallCond    1460 non-null   int64  \n",
            " 19  YearBuilt      1460 non-null   int64  \n",
            " 20  YearRemodAdd   1460 non-null   int64  \n",
            " 21  RoofStyle      1460 non-null   object \n",
            " 22  RoofMatl       1460 non-null   object \n",
            " 23  Exterior1st    1460 non-null   object \n",
            " 24  Exterior2nd    1460 non-null   object \n",
            " 25  MasVnrType     588 non-null    object \n",
            " 26  MasVnrArea     1452 non-null   float64\n",
            " 27  ExterQual      1460 non-null   object \n",
            " 28  ExterCond      1460 non-null   object \n",
            " 29  Foundation     1460 non-null   object \n",
            " 30  BsmtQual       1423 non-null   object \n",
            " 31  BsmtCond       1423 non-null   object \n",
            " 32  BsmtExposure   1422 non-null   object \n",
            " 33  BsmtFinType1   1423 non-null   object \n",
            " 34  BsmtFinSF1     1460 non-null   int64  \n",
            " 35  BsmtFinType2   1422 non-null   object \n",
            " 36  BsmtFinSF2     1460 non-null   int64  \n",
            " 37  BsmtUnfSF      1460 non-null   int64  \n",
            " 38  TotalBsmtSF    1460 non-null   int64  \n",
            " 39  Heating        1460 non-null   object \n",
            " 40  HeatingQC      1460 non-null   object \n",
            " 41  CentralAir     1460 non-null   object \n",
            " 42  Electrical     1459 non-null   object \n",
            " 43  FstFlrSF       1460 non-null   int64  \n",
            " 44  SndFlrSF       1460 non-null   int64  \n",
            " 45  LowQualFinSF   1460 non-null   int64  \n",
            " 46  GrLivArea      1460 non-null   int64  \n",
            " 47  BsmtFullBath   1460 non-null   int64  \n",
            " 48  BsmtHalfBath   1460 non-null   int64  \n",
            " 49  FullBath       1460 non-null   int64  \n",
            " 50  HalfBath       1460 non-null   int64  \n",
            " 51  BedroomAbvGr   1460 non-null   int64  \n",
            " 52  KitchenAbvGr   1460 non-null   int64  \n",
            " 53  KitchenQual    1460 non-null   object \n",
            " 54  TotRmsAbvGrd   1460 non-null   int64  \n",
            " 55  Functional     1460 non-null   object \n",
            " 56  Fireplaces     1460 non-null   int64  \n",
            " 57  FireplaceQu    770 non-null    object \n",
            " 58  GarageType     1379 non-null   object \n",
            " 59  GarageYrBlt    1379 non-null   float64\n",
            " 60  GarageFinish   1379 non-null   object \n",
            " 61  GarageCars     1460 non-null   int64  \n",
            " 62  GarageArea     1460 non-null   int64  \n",
            " 63  GarageQual     1379 non-null   object \n",
            " 64  GarageCond     1379 non-null   object \n",
            " 65  PavedDrive     1460 non-null   object \n",
            " 66  WoodDeckSF     1460 non-null   int64  \n",
            " 67  OpenPorchSF    1460 non-null   int64  \n",
            " 68  EnclosedPorch  1460 non-null   int64  \n",
            " 69  TSsnPorch      1460 non-null   int64  \n",
            " 70  ScreenPorch    1460 non-null   int64  \n",
            " 71  PoolArea       1460 non-null   int64  \n",
            " 72  PoolQC         7 non-null      object \n",
            " 73  Fence          281 non-null    object \n",
            " 74  MiscFeature    54 non-null     object \n",
            " 75  MiscVal        1460 non-null   int64  \n",
            " 76  MoSold         1460 non-null   int64  \n",
            " 77  YrSold         1460 non-null   int64  \n",
            " 78  SaleType       1460 non-null   object \n",
            " 79  SaleCondition  1460 non-null   object \n",
            " 80  SalePrice      1460 non-null   int64  \n",
            "dtypes: float64(3), int64(35), object(43)\n",
            "memory usage: 924.0+ KB\n",
            "None\n"
          ]
        }
      ]
    },
    {
      "cell_type": "markdown",
      "source": [
        "## Descriptive statistics\n",
        "\n",
        "We can use the describe() function to obtain summary statistics for the numerical features in the dataset. We use the describe() function to computes various summary statistics such as count, mean, standard deviation, minimum, first quartile, median (second quartile), third quartile, and maximum for given column. These statistics provide an overview of the distribution of data in each column of the dataset."
      ],
      "metadata": {
        "id": "eft1tBttOgHA"
      }
    },
    {
      "cell_type": "markdown",
      "source": [
        "### Numerical Data\n",
        "\n",
        "Made up either integer or floating point decimals"
      ],
      "metadata": {
        "id": "kk0FXV9wPPyv"
      }
    },
    {
      "cell_type": "code",
      "execution_count": 10,
      "metadata": {
        "colab": {
          "base_uri": "https://localhost:8080/"
        },
        "id": "EV8fwa09qApG",
        "outputId": "f3c60abe-99aa-46af-a4a7-0a46092e65dd",
        "collapsed": true
      },
      "outputs": [
        {
          "output_type": "stream",
          "name": "stdout",
          "text": [
            "                Id   MSSubClass  LotFrontage        LotArea  OverallQual  \\\n",
            "count  1460.000000  1460.000000  1201.000000    1460.000000  1460.000000   \n",
            "mean    730.500000    56.897260    70.049958   10516.828082     6.099315   \n",
            "std     421.610009    42.300571    24.284752    9981.264932     1.382997   \n",
            "min       1.000000    20.000000    21.000000    1300.000000     1.000000   \n",
            "25%     365.750000    20.000000    59.000000    7553.500000     5.000000   \n",
            "50%     730.500000    50.000000    69.000000    9478.500000     6.000000   \n",
            "75%    1095.250000    70.000000    80.000000   11601.500000     7.000000   \n",
            "max    1460.000000   190.000000   313.000000  215245.000000    10.000000   \n",
            "\n",
            "       OverallCond    YearBuilt  YearRemodAdd   MasVnrArea   BsmtFinSF1  ...  \\\n",
            "count  1460.000000  1460.000000   1460.000000  1452.000000  1460.000000  ...   \n",
            "mean      5.575342  1971.267808   1984.865753   103.685262   443.639726  ...   \n",
            "std       1.112799    30.202904     20.645407   181.066207   456.098091  ...   \n",
            "min       1.000000  1872.000000   1950.000000     0.000000     0.000000  ...   \n",
            "25%       5.000000  1954.000000   1967.000000     0.000000     0.000000  ...   \n",
            "50%       5.000000  1973.000000   1994.000000     0.000000   383.500000  ...   \n",
            "75%       6.000000  2000.000000   2004.000000   166.000000   712.250000  ...   \n",
            "max       9.000000  2010.000000   2010.000000  1600.000000  5644.000000  ...   \n",
            "\n",
            "        WoodDeckSF  OpenPorchSF  EnclosedPorch    TSsnPorch  ScreenPorch  \\\n",
            "count  1460.000000  1460.000000    1460.000000  1460.000000  1460.000000   \n",
            "mean     94.244521    46.660274      21.954110     3.409589    15.060959   \n",
            "std     125.338794    66.256028      61.119149    29.317331    55.757415   \n",
            "min       0.000000     0.000000       0.000000     0.000000     0.000000   \n",
            "25%       0.000000     0.000000       0.000000     0.000000     0.000000   \n",
            "50%       0.000000    25.000000       0.000000     0.000000     0.000000   \n",
            "75%     168.000000    68.000000       0.000000     0.000000     0.000000   \n",
            "max     857.000000   547.000000     552.000000   508.000000   480.000000   \n",
            "\n",
            "          PoolArea       MiscVal       MoSold       YrSold      SalePrice  \n",
            "count  1460.000000   1460.000000  1460.000000  1460.000000    1460.000000  \n",
            "mean      2.758904     43.489041     6.321918  2007.815753  180921.195890  \n",
            "std      40.177307    496.123024     2.703626     1.328095   79442.502883  \n",
            "min       0.000000      0.000000     1.000000  2006.000000   34900.000000  \n",
            "25%       0.000000      0.000000     5.000000  2007.000000  129975.000000  \n",
            "50%       0.000000      0.000000     6.000000  2008.000000  163000.000000  \n",
            "75%       0.000000      0.000000     8.000000  2009.000000  214000.000000  \n",
            "max     738.000000  15500.000000    12.000000  2010.000000  755000.000000  \n",
            "\n",
            "[8 rows x 38 columns]\n"
          ]
        }
      ],
      "source": [
        "# Get escriptive statistics for NUMERICAL columns\n",
        "numerical_stats = house_df.describe()\n",
        "print(numerical_stats)"
      ]
    },
    {
      "cell_type": "markdown",
      "source": [
        "### Categorical Data\n",
        "\n",
        "Categorical data, or qualitative data, is essential non-numerical data."
      ],
      "metadata": {
        "id": "nsqrLt2HPUJg"
      }
    },
    {
      "cell_type": "code",
      "execution_count": 13,
      "metadata": {
        "colab": {
          "base_uri": "https://localhost:8080/"
        },
        "id": "pHMNsnI6SKDG",
        "outputId": "a89afc35-b3be-44fd-c950-386343e3ebd9",
        "collapsed": true
      },
      "outputs": [
        {
          "output_type": "stream",
          "name": "stdout",
          "text": [
            "       MSZoning Street Alley LotShape LandContour Utilities LotConfig LandSlope Neighborhood  \\\n",
            "count      1460   1460    91     1460        1460      1460      1460      1460         1460   \n",
            "unique        5      2     2        4           4         2         5         3           25   \n",
            "top          RL   Pave  Grvl      Reg         Lvl    AllPub    Inside       Gtl        NAmes   \n",
            "freq       1151   1454    50      925        1311      1459      1052      1382          225   \n",
            "\n",
            "       Condition1 Condition2 BldgType HouseStyle RoofStyle RoofMatl Exterior1st Exterior2nd  \\\n",
            "count        1460       1460     1460       1460      1460     1460        1460        1460   \n",
            "unique          9          8        5          8         6        8          15          16   \n",
            "top          Norm       Norm     1Fam     1Story     Gable  CompShg     VinylSd     VinylSd   \n",
            "freq         1260       1445     1220        726      1141     1434         515         504   \n",
            "\n",
            "       MasVnrType ExterQual ExterCond Foundation BsmtQual BsmtCond BsmtExposure BsmtFinType1  \\\n",
            "count         588      1460      1460       1460     1423     1423         1422         1423   \n",
            "unique          3         4         5          6        4        4            4            6   \n",
            "top       BrkFace        TA        TA      PConc       TA       TA           No          Unf   \n",
            "freq          445       906      1282        647      649     1311          953          430   \n",
            "\n",
            "       BsmtFinType2 Heating HeatingQC CentralAir Electrical KitchenQual Functional FireplaceQu  \\\n",
            "count          1422    1460      1460       1460       1459        1460       1460         770   \n",
            "unique            6       6         5          2          5           4          7           5   \n",
            "top             Unf    GasA        Ex          Y      SBrkr          TA        Typ          Gd   \n",
            "freq           1256    1428       741       1365       1334         735       1360         380   \n",
            "\n",
            "       GarageType GarageFinish GarageQual GarageCond PavedDrive PoolQC  Fence MiscFeature  \\\n",
            "count        1379         1379       1379       1379       1460      7    281          54   \n",
            "unique          6            3          5          5          3      3      4           4   \n",
            "top        Attchd          Unf         TA         TA          Y     Gd  MnPrv        Shed   \n",
            "freq          870          605       1311       1326       1340      3    157          49   \n",
            "\n",
            "       SaleType SaleCondition  \n",
            "count      1460          1460  \n",
            "unique        9             6  \n",
            "top          WD        Normal  \n",
            "freq       1267          1198  \n"
          ]
        }
      ],
      "source": [
        "# Set options to display all columns and increase display width\n",
        "pd.set_option('display.max_columns', None)  # Ensure all columns are shown\n",
        "pd.set_option('display.width', 100)        # Adjust width to your preference\n",
        "\n",
        "# Get descriptive statistics for CATEGORICAL columns\n",
        "categorical_stats = house_df.describe(include=['object'])\n",
        "print(categorical_stats)"
      ]
    },
    {
      "cell_type": "markdown",
      "metadata": {
        "id": "a-INK3E1ecVE"
      },
      "source": [
        " ### Missing Values\n",
        "\n",
        " This data profiling step is importat as missing values can impact subjects stages such as feature selection and model training.\n",
        "\n",
        " The presence of missing values in several columns indicates that the dataset requires cleaning, particularly if these variables are crucial for any analysis or modeling task."
      ]
    },
    {
      "cell_type": "code",
      "execution_count": 14,
      "metadata": {
        "colab": {
          "base_uri": "https://localhost:8080/"
        },
        "id": "XnHtB2z7Ul2n",
        "outputId": "e92162b3-123a-4444-9521-a7ddcd91364b"
      },
      "outputs": [
        {
          "output_type": "stream",
          "name": "stdout",
          "text": [
            "PoolQC          1453\n",
            "MiscFeature     1406\n",
            "Alley           1369\n",
            "Fence           1179\n",
            "MasVnrType       872\n",
            "FireplaceQu      690\n",
            "LotFrontage      259\n",
            "GarageYrBlt       81\n",
            "GarageCond        81\n",
            "GarageType        81\n",
            "GarageFinish      81\n",
            "GarageQual        81\n",
            "BsmtFinType2      38\n",
            "BsmtExposure      38\n",
            "BsmtQual          37\n",
            "BsmtCond          37\n",
            "BsmtFinType1      37\n",
            "MasVnrArea         8\n",
            "Electrical         1\n",
            "dtype: int64\n"
          ]
        }
      ],
      "source": [
        "# Identifying missing values in the dataset\n",
        "missing_values = house_df.isnull().sum().sort_values(ascending=False)\n",
        "missing_values = missing_values[missing_values > 0]  # Filter out columns with no missing values\n",
        "print(missing_values)"
      ]
    },
    {
      "cell_type": "markdown",
      "metadata": {
        "id": "3Zf5QWWHsGjT"
      },
      "source": [
        "## Our Target Feature and Objective: **SalePrice**\n",
        "\n"
      ]
    },
    {
      "cell_type": "markdown",
      "source": [
        "### Summary Statistics\n",
        "\n",
        "We can use followng code to calculate a summary of the 'SalePrice' column in the dataset. The square brackets ['SalePrice'] are used to select a specific column from the DataFrame house_df. They act as an indexing operator that allows you to access a particular column by its name.  "
      ],
      "metadata": {
        "id": "Xt5dBPX90e7P"
      }
    },
    {
      "cell_type": "code",
      "execution_count": 15,
      "metadata": {
        "colab": {
          "base_uri": "https://localhost:8080/"
        },
        "id": "B4xN7qdDpMC5",
        "outputId": "9a147f8a-7e0f-4e9d-fa43-5fb573048377"
      },
      "outputs": [
        {
          "output_type": "stream",
          "name": "stdout",
          "text": [
            "count      1460.000000\n",
            "mean     180921.195890\n",
            "std       79442.502883\n",
            "min       34900.000000\n",
            "25%      129975.000000\n",
            "50%      163000.000000\n",
            "75%      214000.000000\n",
            "max      755000.000000\n",
            "Name: SalePrice, dtype: float64\n"
          ]
        }
      ],
      "source": [
        "# Get summary statistics\n",
        "summary = house_df['SalePrice'].describe()\n",
        "print(summary)"
      ]
    },
    {
      "cell_type": "markdown",
      "source": [
        "### Missing Rows\n",
        "\n",
        "We also want to double check for any rows mising our target feature."
      ],
      "metadata": {
        "id": "5HlxFxJO0mqD"
      }
    },
    {
      "cell_type": "code",
      "source": [
        "# Check for missing values\n",
        "missing_values = house_df['SalePrice'].isnull().sum()\n",
        "print(\"\\n Missing sales price \", missing_values)"
      ],
      "metadata": {
        "colab": {
          "base_uri": "https://localhost:8080/"
        },
        "id": "J0Ig58dW0qeo",
        "outputId": "b967ff89-b183-425e-875d-ca56803e8110"
      },
      "execution_count": 16,
      "outputs": [
        {
          "output_type": "stream",
          "name": "stdout",
          "text": [
            "\n",
            " Missing sales price  0\n"
          ]
        }
      ]
    },
    {
      "cell_type": "markdown",
      "source": [
        "### Plot the distribution\n",
        "\n",
        "The plot displays the distribution (histogram) of house sale prices, giving us an idea of the shape, central tendency, and spread of the data."
      ],
      "metadata": {
        "id": "5BCURUH71d4G"
      }
    },
    {
      "cell_type": "code",
      "execution_count": 18,
      "metadata": {
        "colab": {
          "base_uri": "https://localhost:8080/",
          "height": 0
        },
        "id": "s7wTOcKRtiv_",
        "outputId": "70dec1e2-d9b8-47ee-cc81-67f291c5f5b7",
        "collapsed": true
      },
      "outputs": [
        {
          "output_type": "display_data",
          "data": {
            "text/plain": [
              "<Figure size 640x480 with 1 Axes>"
            ],
            "image/png": "[encoded data removed]"
          },
          "metadata": {}
        }
      ],
      "source": [
        "import seaborn as sns\n",
        "import matplotlib.pyplot as plt\n",
        "\n",
        "# Create the histogram plot\n",
        "sns.histplot(house_df['SalePrice'])\n",
        "plt.title('Distribution of House Sale Prices')\n",
        "\n",
        "plt.show()"
      ]
    },
    {
      "cell_type": "markdown",
      "source": [
        "### Correlations\n",
        "\n",
        "We'll compute the correlation matrix and focus on how **NUMERICAL FEATURES** features correlate with the target variable **SalePrice**. ​\n",
        "\n",
        "We will have to remove categorical features before doing the correlation."
      ],
      "metadata": {
        "id": "RMyNd5-b2Rqj"
      }
    },
    {
      "cell_type": "markdown",
      "source": [
        "#### Correlation Matrix"
      ],
      "metadata": {
        "id": "rO2s-RuG29ux"
      }
    },
    {
      "cell_type": "code",
      "source": [
        "import numpy as np\n",
        "\n",
        "# Calculating correlation matrix for numerical features\n",
        "# Select only numerical columns for correlation calculation\n",
        "correlation_matrix = house_df.select_dtypes(include=np.number).corr()\n",
        "sale_price_correlation = correlation_matrix['SalePrice'].sort_values(ascending=False)\n",
        "\n",
        "print(sale_price_correlation)"
      ],
      "metadata": {
        "collapsed": true,
        "colab": {
          "base_uri": "https://localhost:8080/"
        },
        "id": "4fHvcfrm5NnZ",
        "outputId": "89bf9203-db7b-4b3d-d86e-645f629e30ac"
      },
      "execution_count": 30,
      "outputs": [
        {
          "output_type": "stream",
          "name": "stdout",
          "text": [
            "SalePrice        1.000000\n",
            "OverallQual      0.790982\n",
            "GrLivArea        0.708624\n",
            "GarageCars       0.640409\n",
            "GarageArea       0.623431\n",
            "TotalBsmtSF      0.613581\n",
            "FstFlrSF         0.605852\n",
            "FullBath         0.560664\n",
            "TotRmsAbvGrd     0.533723\n",
            "YearBuilt        0.522897\n",
            "YearRemodAdd     0.507101\n",
            "GarageYrBlt      0.486362\n",
            "MasVnrArea       0.477493\n",
            "Fireplaces       0.466929\n",
            "BsmtFinSF1       0.386420\n",
            "LotFrontage      0.351799\n",
            "WoodDeckSF       0.324413\n",
            "SndFlrSF         0.319334\n",
            "OpenPorchSF      0.315856\n",
            "HalfBath         0.284108\n",
            "LotArea          0.263843\n",
            "BsmtFullBath     0.227122\n",
            "BsmtUnfSF        0.214479\n",
            "BedroomAbvGr     0.168213\n",
            "ScreenPorch      0.111447\n",
            "PoolArea         0.092404\n",
            "MoSold           0.046432\n",
            "TSsnPorch        0.044584\n",
            "BsmtFinSF2      -0.011378\n",
            "BsmtHalfBath    -0.016844\n",
            "MiscVal         -0.021190\n",
            "Id              -0.021917\n",
            "LowQualFinSF    -0.025606\n",
            "YrSold          -0.028923\n",
            "OverallCond     -0.077856\n",
            "MSSubClass      -0.084284\n",
            "EnclosedPorch   -0.128578\n",
            "KitchenAbvGr    -0.135907\n",
            "Name: SalePrice, dtype: float64\n"
          ]
        }
      ]
    },
    {
      "cell_type": "code",
      "source": [
        "# Calculate the correlation matrix\n",
        "corr_matrix = correlation_matrix.corr()\n",
        "\n",
        "# Create a heatmap of the correlation matrix\n",
        "plt.figure(figsize=(6, 6))\n",
        "sns.heatmap(corr_matrix, annot=False, cmap=\"coolwarm\")\n",
        "\n",
        "# Add title\n",
        "plt.title(\"Correlation Matrix of House Prices Features\")\n",
        "\n",
        "# Display the heatmap\n",
        "plt.show()"
      ],
      "metadata": {
        "colab": {
          "base_uri": "https://localhost:8080/",
          "height": 631
        },
        "id": "1bKB9o_r59O0",
        "outputId": "5778534c-72d6-4eeb-e012-c62573430fc2"
      },
      "execution_count": 31,
      "outputs": [
        {
          "output_type": "display_data",
          "data": {
            "text/plain": [
              "<Figure size 600x600 with 2 Axes>"
            ],
            "image/png": "[encoded data removed]"
          },
          "metadata": {}
        }
      ]
    },
    {
      "cell_type": "markdown",
      "source": [
        "#### Correlation Heatmap"
      ],
      "metadata": {
        "id": "XzvL2X_r3Ihi"
      }
    }
  ]
}